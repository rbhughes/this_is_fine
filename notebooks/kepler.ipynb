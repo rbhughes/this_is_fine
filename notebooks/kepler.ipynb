{
 "cells": [
  {
   "cell_type": "markdown",
   "metadata": {},
   "source": [
    "# Wildfire Risk Visualization with Kepler.gl\n",
    "\n",
    "This notebook visualizes wildfire data using Kepler.gl with automatic styling."
   ]
  },
  {
   "cell_type": "markdown",
   "metadata": {},
   "source": [
    "## Setup"
   ]
  },
  {
   "cell_type": "code",
   "execution_count": 1,
   "metadata": {},
   "outputs": [],
   "source": [
    "# Suppress keplergl pkg_resources deprecation warning\n",
    "import warnings\n",
    "warnings.filterwarnings('ignore', category=UserWarning, module='keplergl')\n",
    "warnings.filterwarnings('ignore', category=UserWarning, module='jupyter_client')\n",
    "\n",
    "import pandas as pd\n",
    "import geopandas as gpd\n",
    "from keplergl import KeplerGl\n",
    "from pathlib import Path"
   ]
  },
  {
   "cell_type": "markdown",
   "metadata": {},
   "source": [
    "## Load Data"
   ]
  },
  {
   "cell_type": "code",
   "execution_count": 2,
   "metadata": {},
   "outputs": [
    {
     "name": "stdout",
     "output_type": "stream",
     "text": [
      "Loaded 2 fire detections\n",
      "Loaded 3 buffer zones\n"
     ]
    }
   ],
   "source": [
    "# Load GeoJSON files from ETL output\n",
    "data_dir = Path('../data/processed')\n",
    "fires_gdf = gpd.read_file(data_dir / 'active_fires.geojson')\n",
    "buffers_gdf = gpd.read_file(data_dir / 'fire_buffers.geojson')\n",
    "\n",
    "# Fill NaN values to avoid JSON serialization issues\n",
    "# Use numeric_only to avoid object dtype downcasting warning\n",
    "fires_gdf = fires_gdf.fillna({col: 0 for col in fires_gdf.select_dtypes(include=['number']).columns})\n",
    "buffers_gdf = buffers_gdf.fillna({col: 0 for col in buffers_gdf.select_dtypes(include=['number']).columns})\n",
    "\n",
    "print(f\"Loaded {len(fires_gdf)} fire detections\")\n",
    "print(f\"Loaded {len(buffers_gdf)} buffer zones\")"
   ]
  },
  {
   "cell_type": "markdown",
   "metadata": {},
   "source": [
    "## Visualize with Kepler.gl"
   ]
  },
  {
   "cell_type": "code",
   "execution_count": 3,
   "metadata": {},
   "outputs": [
    {
     "name": "stdout",
     "output_type": "stream",
     "text": [
      "User Guide: https://docs.kepler.gl/docs/keplergl-jupyter\n"
     ]
    },
    {
     "data": {
      "application/vnd.jupyter.widget-view+json": {
       "model_id": "13e9a42f9b7c4e7b9dce76f03456dd85",
       "version_major": 2,
       "version_minor": 0
      },
      "text/plain": [
       "KeplerGl(data={'fires': {'index': [0, 1], 'columns': ['latitude', 'longitude', 'bright_ti4', 'scan', 'track', \u2026"
      ]
     },
     "execution_count": 3,
     "metadata": {},
     "output_type": "execute_result"
    }
   ],
   "source": [
    "# Create map with automatic center/zoom based on data bounds\n",
    "# Calculate center from fire locations\n",
    "center_lat = fires_gdf.geometry.y.mean()\n",
    "center_lon = fires_gdf.geometry.x.mean()\n",
    "\n",
    "# Create config with proper centering\n",
    "config = {\n",
    "    'version': 'v1',\n",
    "    'config': {\n",
    "        'mapState': {\n",
    "            'latitude': center_lat,\n",
    "            'longitude': center_lon,\n",
    "            'zoom': 8  # Good zoom level for fire viewing\n",
    "        }\n",
    "    }\n",
    "}\n",
    "\n",
    "map_viz = KeplerGl(height=600, config=config)\n",
    "map_viz.add_data(data=fires_gdf, name='fires')\n",
    "map_viz.add_data(data=buffers_gdf, name='buffers')\n",
    "\n",
    "print(f'Map centered at: ({center_lat:.4f}, {center_lon:.4f})')\n",
    "print(f'Zoom level: 8')\n",
    "map_viz"
   ]
  },
  {
   "cell_type": "code",
   "execution_count": 4,
   "metadata": {},
   "outputs": [
    {
     "name": "stdout",
     "output_type": "stream",
     "text": [
      "Map saved to ../wildfire_map.html!\n",
      "\u2713 Map exported to /Users/bryan/dev/this_is_fine/notebooks/../wildfire_map.html\n"
     ]
    }
   ],
   "source": [
    "# Export to HTML for sharing\n",
    "output_path = Path('../wildfire_map.html')\n",
    "map_viz.save_to_html(file_name=str(output_path), read_only=False)\n",
    "print(f\"\u2713 Map exported to {output_path.absolute()}\")"
   ]
  },
  {
   "cell_type": "markdown",
   "metadata": {},
   "source": [
    "## Programmatic Configuration (Optional)\n",
    "\n",
    "If you need to programmatically configure the map instead of using auto-styling, you can build a config dictionary:"
   ]
  },
  {
   "cell_type": "code",
   "execution_count": 5,
   "metadata": {},
   "outputs": [
    {
     "name": "stdout",
     "output_type": "stream",
     "text": [
      "User Guide: https://docs.kepler.gl/docs/keplergl-jupyter\n"
     ]
    },
    {
     "data": {
      "application/vnd.jupyter.widget-view+json": {
       "model_id": "cdf1e4ab73834f10a05daea5c5b00040",
       "version_major": 2,
       "version_minor": 0
      },
      "text/plain": [
       "KeplerGl(config={'version': 'v1', 'config': {'mapState': {'latitude': 37.5, 'longitude': -95.0, 'zoom': 4}, 'v\u2026"
      ]
     },
     "execution_count": 5,
     "metadata": {},
     "output_type": "execute_result"
    }
   ],
   "source": [
    "# Example: Programmatically set point radius and colors\n",
    "config = {\n",
    "    'version': 'v1',\n",
    "    'config': {\n",
    "        'mapState': {\n",
    "            'latitude': 37.5,\n",
    "            'longitude': -95.0,\n",
    "            'zoom': 4\n",
    "        },\n",
    "        'visState': {\n",
    "            'layers': [\n",
    "                {\n",
    "                    'id': 'fires_layer',\n",
    "                    'type': 'point',\n",
    "                    'config': {\n",
    "                        'dataId': 'fires',\n",
    "                        'label': 'Active Fires',\n",
    "                        'color': [255, 100, 100],  # Red\n",
    "                        'columns': {\n",
    "                            'lat': 'latitude',\n",
    "                            'lng': 'longitude'\n",
    "                        },\n",
    "                        'isVisible': True,\n",
    "                        'visConfig': {\n",
    "                            'radius': 10,  # Point radius in pixels\n",
    "                            'opacity': 0.8,\n",
    "                            'outline': False,\n",
    "                            'thickness': 2,\n",
    "                            'colorRange': {\n",
    "                                'name': 'Global Warming',\n",
    "                                'type': 'sequential',\n",
    "                                'category': 'Uber',\n",
    "                                'colors': ['#5A1846', '#900C3F', '#C70039', '#E3611C', '#F1920E', '#FFC300']\n",
    "                            },\n",
    "                            'radiusRange': [5, 20],  # Min/max radius when sizing by field\n",
    "                        }\n",
    "                    },\n",
    "                    'visualChannels': {\n",
    "                        'colorField': {\n",
    "                            'name': 'risk_score',\n",
    "                            'type': 'real'\n",
    "                        },\n",
    "                        'colorScale': 'quantile',\n",
    "                        'sizeField': {\n",
    "                            'name': 'frp',\n",
    "                            'type': 'real'\n",
    "                        },\n",
    "                        'sizeScale': 'sqrt'\n",
    "                    }\n",
    "                },\n",
    "                {\n",
    "                    'id': 'buffers_layer',\n",
    "                    'type': 'geojson',\n",
    "                    'config': {\n",
    "                        'dataId': 'buffers',\n",
    "                        'label': 'Risk Buffers',\n",
    "                        'color': [100, 100, 255],  # Blue\n",
    "                        'columns': {\n",
    "                            'geojson': 'geometry'\n",
    "                        },\n",
    "                        'isVisible': True,\n",
    "                        'visConfig': {\n",
    "                            'opacity': 0.3,\n",
    "                            'strokeOpacity': 0.8,\n",
    "                            'thickness': 1,\n",
    "                            'strokeColor': [50, 50, 200],\n",
    "                            'colorRange': {\n",
    "                                'name': 'Ice And Fire',\n",
    "                                'type': 'diverging',\n",
    "                                'category': 'Uber',\n",
    "                                'colors': ['#7F1941', '#D50255', '#FEAD54', '#FEEDB1', '#B1E4E3', '#0E7C7B']\n",
    "                            },\n",
    "                            'strokeColorRange': {\n",
    "                                'name': 'Global Warming',\n",
    "                                'type': 'sequential',\n",
    "                                'category': 'Uber',\n",
    "                                'colors': ['#5A1846', '#900C3F', '#C70039', '#E3611C', '#F1920E', '#FFC300']\n",
    "                            },\n",
    "                            'radius': 10,\n",
    "                            'sizeRange': [0, 10],\n",
    "                            'radiusRange': [0, 50],\n",
    "                            'heightRange': [0, 500],\n",
    "                            'elevationScale': 5,\n",
    "                            'stroked': True,\n",
    "                            'filled': True,\n",
    "                            'enable3d': False,\n",
    "                            'wireframe': False\n",
    "                        }\n",
    "                    },\n",
    "                    'visualChannels': {\n",
    "                        'colorField': {\n",
    "                            'name': 'risk_category',\n",
    "                            'type': 'string'\n",
    "                        },\n",
    "                        'colorScale': 'ordinal',\n",
    "                        'strokeColorField': None,\n",
    "                        'strokeColorScale': 'quantile',\n",
    "                        'sizeField': None,\n",
    "                        'sizeScale': 'linear',\n",
    "                        'heightField': None,\n",
    "                        'heightScale': 'linear',\n",
    "                        'radiusField': None,\n",
    "                        'radiusScale': 'linear'\n",
    "                    }\n",
    "                }\n",
    "            ]\n",
    "        }\n",
    "    }\n",
    "}\n",
    "\n",
    "# Create map with programmatic config\n",
    "map_configured = KeplerGl(\n",
    "    height=600,\n",
    "    data={'fires': fires_gdf, 'buffers': buffers_gdf},\n",
    "    config=config\n",
    ")\n",
    "map_configured"
   ]
  },
  {
   "cell_type": "markdown",
   "metadata": {},
   "source": [
    "### Key Configuration Options\n",
    "\n",
    "**Point Layer (`type: 'point'`):**\n",
    "- `radius`: Fixed point size in pixels\n",
    "- `radiusRange`: [min, max] when sizing by a field\n",
    "- `opacity`: Layer transparency (0-1)\n",
    "- `colorField`: Field to color by (e.g., 'risk_score')\n",
    "- `sizeField`: Field to size by (e.g., 'frp')\n",
    "- `colorScale`: 'quantile', 'quantize', 'ordinal', 'linear'\n",
    "\n",
    "**GeoJSON Layer (`type: 'geojson'`):**\n",
    "- `opacity`: Fill transparency\n",
    "- `strokeOpacity`: Outline transparency\n",
    "- `thickness`: Outline width\n",
    "- `filled`: Show polygon fill\n",
    "- `stroked`: Show polygon outline\n",
    "- `colorField`: Field to color by (e.g., 'risk_category')\n",
    "\n",
    "**Color Ranges:**\n",
    "- Sequential: 'Global Warming', 'Uber Pool', 'Teal', 'Purple'\n",
    "- Diverging: 'Ice And Fire', 'Outback', 'Pink Wine'\n",
    "- Custom: Provide array of hex colors"
   ]
  },
  {
   "cell_type": "markdown",
   "metadata": {},
   "source": [
    "## Export to HTML\n",
    "\n",
    "Save as standalone HTML file for sharing:"
   ]
  },
  {
   "cell_type": "code",
   "execution_count": 6,
   "metadata": {},
   "outputs": [
    {
     "name": "stdout",
     "output_type": "stream",
     "text": [
      "Map saved to ../wildfire_map.html!\n",
      "Map exported to /Users/bryan/dev/this_is_fine/notebooks/../wildfire_map.html\n"
     ]
    }
   ],
   "source": [
    "# Export the auto-styled map\n",
    "output_path = Path('../wildfire_map.html')\n",
    "map_viz.save_to_html(file_name=str(output_path), read_only=False)\n",
    "print(f\"Map exported to {output_path.absolute()}\")"
   ]
  },
  {
   "cell_type": "markdown",
   "metadata": {},
   "source": [
    "## Air Quality Visualization\n",
    "\n",
    "If you've enriched your fire data with `--aqi` or `--purpleair` flags, you can create visualizations showing air quality impacts.\n",
    "\n",
    "### Available Air Quality Columns:\n",
    "- **AirNow (EPA)**: `aqi`, `aqi_category`, `aqi_parameter`\n",
    "- **PurpleAir**: `pa_pm25`, `pa_pm25_60min`, `pa_sensor_count`"
   ]
  },
  {
   "cell_type": "code",
   "execution_count": 7,
   "metadata": {},
   "outputs": [
    {
     "name": "stdout",
     "output_type": "stream",
     "text": [
      "Air Quality Data Summary\n",
      "============================================================\n",
      "\u2713 AirNow AQI data: 2/2 fires\n",
      "  AQI range: 21 - 21\n",
      "  Categories: {'Good': 2}\n",
      "\n",
      "\u2713 PurpleAir PM2.5 data: 1/2 fires\n",
      "  PM2.5 range: 2.4 - 2.4 \u03bcg/m\u00b3\n",
      "  Avg sensors per fire: 0.5\n"
     ]
    }
   ],
   "source": [
    "# Check which air quality data is available\n",
    "print('Air Quality Data Summary')\n",
    "print('=' * 60)\n",
    "\n",
    "# Check AirNow AQI\n",
    "if 'aqi' in fires_gdf.columns:\n",
    "    aqi_available = fires_gdf['aqi'].notna().sum()\n",
    "    print(f'\u2713 AirNow AQI data: {aqi_available}/{len(fires_gdf)} fires')\n",
    "    if aqi_available > 0:\n",
    "        # Convert to numeric, handling any string values\n",
    "        aqi_numeric = pd.to_numeric(fires_gdf['aqi'], errors='coerce')\n",
    "        print(f'  AQI range: {aqi_numeric.min():.0f} - {aqi_numeric.max():.0f}')\n",
    "        print(f'  Categories: {fires_gdf[\"aqi_category\"].value_counts().to_dict()}')\n",
    "else:\n",
    "    print('  No AirNow data (run with --aqi flag)')\n",
    "\n",
    "# Check PurpleAir\n",
    "print()\n",
    "if 'pa_pm25' in fires_gdf.columns:\n",
    "    pa_available = fires_gdf['pa_pm25'].notna().sum()\n",
    "    print(f'\u2713 PurpleAir PM2.5 data: {pa_available}/{len(fires_gdf)} fires')\n",
    "    if pa_available > 0:\n",
    "        # Convert to numeric, handling any string values\n",
    "        pm25_numeric = pd.to_numeric(fires_gdf['pa_pm25'], errors='coerce')\n",
    "        print(f'  PM2.5 range: {pm25_numeric.min():.1f} - {pm25_numeric.max():.1f} \u03bcg/m\u00b3')\n",
    "        avg_sensors = pd.to_numeric(fires_gdf['pa_sensor_count'], errors='coerce').mean()\n",
    "        print(f'  Avg sensors per fire: {avg_sensors:.1f}')\n",
    "else:\n",
    "    print('  No PurpleAir data (run with --purpleair flag)')"
   ]
  },
  {
   "cell_type": "markdown",
   "metadata": {},
   "source": [
    "### Visualization Option 1: Color Fires by AQI\n",
    "\n",
    "Color fire points by their Air Quality Index to show which fires are causing the worst air quality."
   ]
  },
  {
   "cell_type": "code",
   "execution_count": 8,
   "metadata": {},
   "outputs": [
    {
     "name": "stdout",
     "output_type": "stream",
     "text": [
      "User Guide: https://docs.kepler.gl/docs/keplergl-jupyter\n",
      "\ud83d\udca8 Map created! Click on points to see AQI values\n",
      "   Suggested: Color by \"aqi\" field, size by \"frp\" field\n"
     ]
    }
   ],
   "source": [
    "# Create map colored by AQI\n",
    "if 'aqi' in fires_gdf.columns and fires_gdf['aqi'].notna().any():\n",
    "    # Calculate center from fire locations\n",
    "    center_lat = fires_gdf.geometry.y.mean()\n",
    "    center_lon = fires_gdf.geometry.x.mean()\n",
    "    \n",
    "    config = {\n",
    "        'version': 'v1',\n",
    "        'config': {\n",
    "            'mapState': {\n",
    "                'latitude': center_lat,\n",
    "                'longitude': center_lon,\n",
    "                'zoom': 8\n",
    "            }\n",
    "        }\n",
    "    }\n",
    "    \n",
    "    map_aqi = KeplerGl(height=600, config=config)\n",
    "    map_aqi.add_data(data=fires_gdf, name='fires_aqi')\n",
    "    print('\ud83d\udca8 Map created! Click on points to see AQI values')\n",
    "    print(f'   Centered at: ({center_lat:.4f}, {center_lon:.4f})')\n",
    "    print('   Suggested: Color by \"aqi\" field, size by \"frp\" field')\n",
    "    map_aqi\n",
    "else:\n",
    "    print('\u26a0\ufe0f  No AQI data available. Run ETL with --aqi flag first:')\n",
    "    print('   uv run wildfire fetch --region colorado --aqi')"
   ]
  },
  {
   "cell_type": "markdown",
   "metadata": {},
   "source": [
    "### Visualization Option 2: PurpleAir PM2.5 Heatmap\n",
    "\n",
    "Create a heatmap showing PM2.5 concentrations from PurpleAir sensors near fires."
   ]
  },
  {
   "cell_type": "code",
   "execution_count": 9,
   "metadata": {},
   "outputs": [
    {
     "name": "stdout",
     "output_type": "stream",
     "text": [
      "User Guide: https://docs.kepler.gl/docs/keplergl-jupyter\n",
      "\ud83d\udca8 Heatmap created with 1 points\n",
      "   Suggested layer settings:\n",
      "   - Layer type: Heatmap or Point\n",
      "   - Color by: \"pa_pm25\" (PM2.5 concentration)\n",
      "   - Size by: \"pa_sensor_count\" (data quality indicator)\n",
      "\n",
      "   PM2.5 Reference:\n",
      "   - 0-50: Good\n",
      "   - 51-100: Moderate\n",
      "   - 101-150: Unhealthy for Sensitive Groups\n",
      "   - 151+: Unhealthy\n"
     ]
    }
   ],
   "source": [
    "# Create heatmap of PM2.5 values\n",
    "if 'pa_pm25' in fires_gdf.columns and fires_gdf['pa_pm25'].notna().any():\n",
    "    # Filter to only fires with PurpleAir data\n",
    "    fires_with_pa = fires_gdf[fires_gdf['pa_pm25'].notna()].copy()\n",
    "    \n",
    "    # Calculate center\n",
    "    center_lat = fires_with_pa.geometry.y.mean()\n",
    "    center_lon = fires_with_pa.geometry.x.mean()\n",
    "    \n",
    "    config = {\n",
    "        'version': 'v1',\n",
    "        'config': {\n",
    "            'mapState': {\n",
    "                'latitude': center_lat,\n",
    "                'longitude': center_lon,\n",
    "                'zoom': 8\n",
    "            }\n",
    "        }\n",
    "    }\n",
    "    \n",
    "    map_pm25 = KeplerGl(height=600, config=config)\n",
    "    map_pm25.add_data(data=fires_with_pa, name='pm25_data')\n",
    "    \n",
    "    print(f'\ud83d\udca8 Map created with {len(fires_with_pa)} points with PM2.5 data')\n",
    "    print(f'   Centered at: ({center_lat:.4f}, {center_lon:.4f})')\n",
    "    print()\n",
    "    print('   \ud83d\udcca To create a HEATMAP:')\n",
    "    print('   1. Click on \"pm25_data\" layer in the sidebar')\n",
    "    print('   2. Change layer type from \"Point\" to \"Heatmap\"')\n",
    "    print('   3. Set Weight by: \"pa_pm25\"')\n",
    "    print('   4. Adjust Radius and Intensity sliders as needed')\n",
    "    print()\n",
    "    print('   \ud83d\udca1 Or use Point layer:')\n",
    "    print('   - Color by: \"pa_pm25\" (PM2.5 concentration)')\n",
    "    print('   - Size by: \"pa_sensor_count\" (data quality)')\n",
    "    print()\n",
    "    print('   PM2.5 Reference (\u03bcg/m\u00b3):')\n",
    "    print('   - 0-50: Good')\n",
    "    print('   - 51-100: Moderate')\n",
    "    print('   - 101-150: Unhealthy for Sensitive Groups')\n",
    "    print('   - 151+: Unhealthy')\n",
    "    map_pm25\n",
    "else:\n",
    "    print('\u26a0\ufe0f  No PurpleAir data available. Run ETL with --purpleair flag first:')\n",
    "    print('   uv run wildfire fetch --region colorado --purpleair')"
   ]
  },
  {
   "cell_type": "markdown",
   "metadata": {},
   "source": [
    "### Visualization Option 3: Combined Multi-Layer Map\n",
    "\n",
    "Create a comprehensive map with fire risk, AQI, and PM2.5 data all in one view."
   ]
  },
  {
   "cell_type": "code",
   "execution_count": 10,
   "metadata": {},
   "outputs": [
    {
     "name": "stdout",
     "output_type": "stream",
     "text": [
      "User Guide: https://docs.kepler.gl/docs/keplergl-jupyter\n",
      "\u2713 Added 2 fires with AirNow AQI data\n",
      "\u2713 Added 1 fires with PurpleAir PM2.5 data\n",
      "\n",
      "\ud83d\udca1 Suggested layer configuration:\n",
      "   1. Risk Buffers (polygons) - colored by risk_category\n",
      "   2. Fires (points) - colored by risk_score\n",
      "   3. AQI Points (points) - colored by aqi, sized by frp\n",
      "   4. PM2.5 Heatmap (heatmap) - weight by pa_pm25\n",
      "\n",
      "Toggle layers on/off in the sidebar to explore different views!\n"
     ]
    },
    {
     "data": {
      "application/vnd.jupyter.widget-view+json": {
       "model_id": "ba191d3e51194b718a4ae639cdcbadd3",
       "version_major": 2,
       "version_minor": 0
      },
      "text/plain": [
       "KeplerGl(data={'fires': {'index': [0, 1], 'columns': ['latitude', 'longitude', 'bright_ti4', 'scan', 'track', \u2026"
      ]
     },
     "execution_count": 10,
     "metadata": {},
     "output_type": "execute_result"
    }
   ],
   "source": [
    "# Create comprehensive air quality + fire map\n",
    "# Calculate center from fire locations\n",
    "center_lat = fires_gdf.geometry.y.mean()\n",
    "center_lon = fires_gdf.geometry.x.mean()\n",
    "\n",
    "config = {\n",
    "    'version': 'v1',\n",
    "    'config': {\n",
    "        'mapState': {\n",
    "            'latitude': center_lat,\n",
    "            'longitude': center_lon,\n",
    "            'zoom': 8\n",
    "        }\n",
    "    }\n",
    "}\n",
    "\n",
    "map_combined = KeplerGl(height=600, config=config)\n",
    "\n",
    "# Add all data layers\n",
    "map_combined.add_data(data=fires_gdf, name='fires')\n",
    "map_combined.add_data(data=buffers_gdf, name='risk_buffers')\n",
    "\n",
    "print(f'Map centered at: ({center_lat:.4f}, {center_lon:.4f})')\n",
    "print()\n",
    "\n",
    "# Add AQI layer if available\n",
    "if 'aqi' in fires_gdf.columns and fires_gdf['aqi'].notna().any():\n",
    "    fires_aqi = fires_gdf[fires_gdf['aqi'].notna()].copy()\n",
    "    map_combined.add_data(data=fires_aqi, name='aqi_points')\n",
    "    print(f'\u2713 Added {len(fires_aqi)} fires with AirNow AQI data')\n",
    "\n",
    "# Add PurpleAir layer if available\n",
    "if 'pa_pm25' in fires_gdf.columns and fires_gdf['pa_pm25'].notna().any():\n",
    "    fires_pa = fires_gdf[fires_gdf['pa_pm25'].notna()].copy()\n",
    "    map_combined.add_data(data=fires_pa, name='pm25_heatmap')\n",
    "    print(f'\u2713 Added {len(fires_pa)} fires with PurpleAir PM2.5 data')\n",
    "\n",
    "print()\n",
    "print('\ud83d\udca1 Suggested layer configuration:')\n",
    "print('   1. Risk Buffers (polygons) - colored by risk_category')\n",
    "print('   2. Fires (points) - colored by risk_score')\n",
    "print('   3. AQI Points (points) - colored by aqi, sized by frp')\n",
    "print('   4. PM2.5 Heatmap (change to heatmap type) - weight by pa_pm25')\n",
    "print()\n",
    "print('Toggle layers on/off in the sidebar to explore different views!')\n",
    "\n",
    "map_combined"
   ]
  },
  {
   "cell_type": "markdown",
   "metadata": {},
   "source": [
    "### Export Air Quality Maps\n",
    "\n",
    "Save any of the above maps as standalone HTML files:"
   ]
  },
  {
   "cell_type": "code",
   "execution_count": 11,
   "metadata": {},
   "outputs": [
    {
     "name": "stdout",
     "output_type": "stream",
     "text": [
      "Map saved to ../wildfire_airquality_map.html!\n",
      "\u2713 Air quality map exported to /Users/bryan/dev/this_is_fine/notebooks/../wildfire_airquality_map.html\n",
      "\n",
      "Open this file in a web browser to share with others!\n"
     ]
    }
   ],
   "source": [
    "# Export the combined air quality map\n",
    "output_path = Path('../wildfire_airquality_map.html')\n",
    "map_combined.save_to_html(file_name=str(output_path), read_only=False)\n",
    "print(f'\u2713 Air quality map exported to {output_path.absolute()}')\n",
    "print('\\nOpen this file in a web browser to share with others!')"
   ]
  }
 ],
 "metadata": {
  "kernelspec": {
   "display_name": "Python 3 (ipykernel)",
   "language": "python",
   "name": "python3"
  },
  "language_info": {
   "codemirror_mode": {
    "name": "ipython",
    "version": 3
   },
   "file_extension": ".py",
   "mimetype": "text/x-python",
   "name": "python",
   "nbconvert_exporter": "python",
   "pygments_lexer": "ipython3",
   "version": "3.12.11"
  }
 },
 "nbformat": 4,
 "nbformat_minor": 4
}