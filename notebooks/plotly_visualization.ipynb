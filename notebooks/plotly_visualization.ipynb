{
 "cells": [
  {
   "cell_type": "markdown",
   "metadata": {},
   "source": [
    "# Wildfire Visualization with Plotly + MapLibre\n",
    "\n",
    "This notebook provides fully programmatic wildfire visualizations using Plotly with MapLibre.\n",
    "\n",
    "**Advantages:**\n",
    "- Complete programmatic control over styling\n",
    "- Free CARTO basemaps (no API key required)\n",
    "- Interactive plots with hover data\n",
    "- Density heatmaps for air quality\n",
    "- Time-series animations (if needed)\n",
    "- Export to standalone HTML\n",
    "\n",
    "**No Setup Required** - Uses free CARTO tiles via MapLibre (Plotly 5.24+)"
   ]
  },
  {
   "cell_type": "markdown",
   "metadata": {},
   "source": [
    "## Setup"
   ]
  },
  {
   "cell_type": "code",
   "execution_count": 1,
   "metadata": {},
   "outputs": [],
   "source": [
    "import geopandas as gpd\n",
    "import pandas as pd\n",
    "import plotly.express as px\n",
    "import plotly.graph_objects as go\n",
    "from plotly.subplots import make_subplots\n",
    "from pathlib import Path\n",
    "import json"
   ]
  },
  {
   "cell_type": "code",
   "execution_count": 2,
   "metadata": {},
   "outputs": [
    {
     "name": "stdout",
     "output_type": "stream",
     "text": [
      "✓ Using MapLibre with carto-positron\n",
      "  No API key required\n",
      "  Attribution: © CARTO © OpenStreetMap\n"
     ]
    }
   ],
   "source": [
    "# Configure map style\n",
    "# Plotly 5.24+ uses MapLibre with free CARTO tiles\n",
    "# Available styles:\n",
    "#   - 'carto-positron': Light theme (default)\n",
    "#   - 'carto-darkmatter': Dark theme\n",
    "#   - 'carto-voyager': Colorful theme\n",
    "#   - 'open-street-map': Classic OpenStreetMap\n",
    "\n",
    "map_style = 'carto-positron'  # Light theme\n",
    "\n",
    "print(f'✓ Using MapLibre with {map_style}')\n",
    "print('  No API key required')\n",
    "print(f'  Attribution: © CARTO © OpenStreetMap')"
   ]
  },
  {
   "cell_type": "markdown",
   "metadata": {},
   "source": [
    "## Load Data"
   ]
  },
  {
   "cell_type": "code",
   "execution_count": 3,
   "metadata": {},
   "outputs": [
    {
     "name": "stdout",
     "output_type": "stream",
     "text": [
      "Loaded 461 fire detections\n",
      "Loaded 3 buffer zones\n",
      "Map center: (32.1795, -83.6785)\n"
     ]
    }
   ],
   "source": [
    "# Load GeoJSON files from ETL output\n",
    "data_dir = Path('../data/processed')\n",
    "fires_gdf = gpd.read_file(data_dir / 'active_fires.geojson')\n",
    "buffers_gdf = gpd.read_file(data_dir / 'fire_buffers.geojson')\n",
    "\n",
    "# Convert to regular DataFrames (Plotly works with lat/lon columns)\n",
    "fires_df = fires_gdf.copy()\n",
    "fires_df['lon'] = fires_df.geometry.x\n",
    "fires_df['lat'] = fires_df.geometry.y\n",
    "\n",
    "# Calculate map center from fire locations\n",
    "center_lat = fires_df['lat'].mean()\n",
    "center_lon = fires_df['lon'].mean()\n",
    "\n",
    "print(f\"Loaded {len(fires_df)} fire detections\")\n",
    "print(f\"Loaded {len(buffers_gdf)} buffer zones\")\n",
    "print(f\"Map center: ({center_lat:.4f}, {center_lon:.4f})\")"
   ]
  },
  {
   "cell_type": "markdown",
   "metadata": {},
   "source": [
    "## 1. Basic Fire Points Map\n",
    "\n",
    "Simple scatter plot showing all fire detections colored by risk category."
   ]
  },
  {
   "cell_type": "code",
   "execution_count": 4,
   "metadata": {},
   "outputs": [
    {
     "ename": "ValueError",
     "evalue": "Value of 'hover_data_2' is not the name of a column in 'data_frame'. Expected one of ['latitude', 'longitude', 'bright_ti4', 'scan', 'track', 'acq_date', 'acq_time', 'satellite', 'instrument', 'confidence', 'version', 'bright_ti5', 'frp', 'daynight', 'acq_datetime', 'temperature_c', 'relative_humidity', 'wind_speed_kmh', 'wind_direction_deg', 'precip_probability', 'fire_danger_index', 'red_flag_index', 'aqi', 'aqi_parameter', 'aqi_category', 'aqi_category_number', 'pa_pm25', 'pa_pm25_60min', 'pa_sensor_count', 'pa_avg_distance_km', 'brightness_norm', 'confidence_norm', 'frp_norm', 'daynight_norm', 'humidity_norm', 'wind_norm', 'precip_norm', 'fire_danger_norm', 'risk_score', 'risk_category', 'uses_weather_data', 'geometry', 'lon', 'lat'] but received: brightness",
     "output_type": "error",
     "traceback": [
      "\u001b[31m---------------------------------------------------------------------------\u001b[39m",
      "\u001b[31mValueError\u001b[39m                                Traceback (most recent call last)",
      "\u001b[36mCell\u001b[39m\u001b[36m \u001b[39m\u001b[32mIn[4]\u001b[39m\u001b[32m, line 1\u001b[39m\n\u001b[32m----> \u001b[39m\u001b[32m1\u001b[39m fig = \u001b[43mpx\u001b[49m\u001b[43m.\u001b[49m\u001b[43mscatter_map\u001b[49m\u001b[43m(\u001b[49m\n\u001b[32m      2\u001b[39m \u001b[43m    \u001b[49m\u001b[43mfires_df\u001b[49m\u001b[43m,\u001b[49m\n\u001b[32m      3\u001b[39m \u001b[43m    \u001b[49m\u001b[43mlat\u001b[49m\u001b[43m=\u001b[49m\u001b[33;43m'\u001b[39;49m\u001b[33;43mlat\u001b[39;49m\u001b[33;43m'\u001b[39;49m\u001b[43m,\u001b[49m\n\u001b[32m      4\u001b[39m \u001b[43m    \u001b[49m\u001b[43mlon\u001b[49m\u001b[43m=\u001b[49m\u001b[33;43m'\u001b[39;49m\u001b[33;43mlon\u001b[39;49m\u001b[33;43m'\u001b[39;49m\u001b[43m,\u001b[49m\n\u001b[32m      5\u001b[39m \u001b[43m    \u001b[49m\u001b[43mcolor\u001b[49m\u001b[43m=\u001b[49m\u001b[33;43m'\u001b[39;49m\u001b[33;43mrisk_category\u001b[39;49m\u001b[33;43m'\u001b[39;49m\u001b[43m,\u001b[49m\n\u001b[32m      6\u001b[39m \u001b[43m    \u001b[49m\u001b[43mcolor_discrete_map\u001b[49m\u001b[43m=\u001b[49m\u001b[43m{\u001b[49m\u001b[33;43m'\u001b[39;49m\u001b[33;43mLow\u001b[39;49m\u001b[33;43m'\u001b[39;49m\u001b[43m:\u001b[49m\u001b[43m \u001b[49m\u001b[33;43m'\u001b[39;49m\u001b[33;43myellow\u001b[39;49m\u001b[33;43m'\u001b[39;49m\u001b[43m,\u001b[49m\u001b[43m \u001b[49m\u001b[33;43m'\u001b[39;49m\u001b[33;43mModerate\u001b[39;49m\u001b[33;43m'\u001b[39;49m\u001b[43m:\u001b[49m\u001b[43m \u001b[49m\u001b[33;43m'\u001b[39;49m\u001b[33;43morange\u001b[39;49m\u001b[33;43m'\u001b[39;49m\u001b[43m,\u001b[49m\u001b[43m \u001b[49m\u001b[33;43m'\u001b[39;49m\u001b[33;43mHigh\u001b[39;49m\u001b[33;43m'\u001b[39;49m\u001b[43m:\u001b[49m\u001b[43m \u001b[49m\u001b[33;43m'\u001b[39;49m\u001b[33;43mred\u001b[39;49m\u001b[33;43m'\u001b[39;49m\u001b[43m}\u001b[49m\u001b[43m,\u001b[49m\n\u001b[32m      7\u001b[39m \u001b[43m    \u001b[49m\u001b[43mhover_data\u001b[49m\u001b[43m=\u001b[49m\u001b[43m[\u001b[49m\u001b[33;43m'\u001b[39;49m\u001b[33;43mrisk_score\u001b[39;49m\u001b[33;43m'\u001b[39;49m\u001b[43m,\u001b[49m\u001b[43m \u001b[49m\u001b[33;43m'\u001b[39;49m\u001b[33;43mconfidence\u001b[39;49m\u001b[33;43m'\u001b[39;49m\u001b[43m,\u001b[49m\u001b[43m \u001b[49m\u001b[33;43m'\u001b[39;49m\u001b[33;43mbrightness\u001b[39;49m\u001b[33;43m'\u001b[39;49m\u001b[43m,\u001b[49m\u001b[43m \u001b[49m\u001b[33;43m'\u001b[39;49m\u001b[33;43macq_date\u001b[39;49m\u001b[33;43m'\u001b[39;49m\u001b[43m]\u001b[49m\u001b[43m,\u001b[49m\n\u001b[32m      8\u001b[39m \u001b[43m    \u001b[49m\u001b[43mzoom\u001b[49m\u001b[43m=\u001b[49m\u001b[32;43m6\u001b[39;49m\u001b[43m,\u001b[49m\n\u001b[32m      9\u001b[39m \u001b[43m    \u001b[49m\u001b[43mcenter\u001b[49m\u001b[43m=\u001b[49m\u001b[43m{\u001b[49m\u001b[33;43m'\u001b[39;49m\u001b[33;43mlat\u001b[39;49m\u001b[33;43m'\u001b[39;49m\u001b[43m:\u001b[49m\u001b[43m \u001b[49m\u001b[43mcenter_lat\u001b[49m\u001b[43m,\u001b[49m\u001b[43m \u001b[49m\u001b[33;43m'\u001b[39;49m\u001b[33;43mlon\u001b[39;49m\u001b[33;43m'\u001b[39;49m\u001b[43m:\u001b[49m\u001b[43m \u001b[49m\u001b[43mcenter_lon\u001b[49m\u001b[43m}\u001b[49m\u001b[43m,\u001b[49m\n\u001b[32m     10\u001b[39m \u001b[43m    \u001b[49m\u001b[43mtitle\u001b[49m\u001b[43m=\u001b[49m\u001b[33;43m'\u001b[39;49m\u001b[33;43mActive Fire Detections by Risk Category\u001b[39;49m\u001b[33;43m'\u001b[39;49m\u001b[43m,\u001b[49m\n\u001b[32m     11\u001b[39m \u001b[43m    \u001b[49m\u001b[43mmap_style\u001b[49m\u001b[43m=\u001b[49m\u001b[43mmap_style\u001b[49m\u001b[43m,\u001b[49m\n\u001b[32m     12\u001b[39m \u001b[43m)\u001b[49m\n\u001b[32m     14\u001b[39m fig.update_layout(height=\u001b[32m600\u001b[39m)\n\u001b[32m     15\u001b[39m fig.show()\n",
      "\u001b[36mFile \u001b[39m\u001b[32m~/dev/this_is_fine/.venv/lib/python3.12/site-packages/plotly/express/_chart_types.py:1292\u001b[39m, in \u001b[36mscatter_map\u001b[39m\u001b[34m(data_frame, lat, lon, color, text, hover_name, hover_data, custom_data, size, animation_frame, animation_group, category_orders, labels, color_discrete_sequence, color_discrete_map, color_continuous_scale, range_color, color_continuous_midpoint, opacity, size_max, zoom, center, map_style, title, subtitle, template, width, height)\u001b[39m\n\u001b[32m   1258\u001b[39m \u001b[38;5;28;01mdef\u001b[39;00m\u001b[38;5;250m \u001b[39m\u001b[34mscatter_map\u001b[39m(\n\u001b[32m   1259\u001b[39m     data_frame=\u001b[38;5;28;01mNone\u001b[39;00m,\n\u001b[32m   1260\u001b[39m     lat=\u001b[38;5;28;01mNone\u001b[39;00m,\n\u001b[32m   (...)\u001b[39m\u001b[32m   1286\u001b[39m     height=\u001b[38;5;28;01mNone\u001b[39;00m,\n\u001b[32m   1287\u001b[39m ) -> go.Figure:\n\u001b[32m   1288\u001b[39m \u001b[38;5;250m    \u001b[39m\u001b[33;03m\"\"\"\u001b[39;00m\n\u001b[32m   1289\u001b[39m \u001b[33;03m    In a scatter map, each row of `data_frame` is represented by a\u001b[39;00m\n\u001b[32m   1290\u001b[39m \u001b[33;03m    symbol mark on the map.\u001b[39;00m\n\u001b[32m   1291\u001b[39m \u001b[33;03m    \"\"\"\u001b[39;00m\n\u001b[32m-> \u001b[39m\u001b[32m1292\u001b[39m     \u001b[38;5;28;01mreturn\u001b[39;00m \u001b[43mmake_figure\u001b[49m\u001b[43m(\u001b[49m\u001b[43margs\u001b[49m\u001b[43m=\u001b[49m\u001b[38;5;28;43mlocals\u001b[39;49m\u001b[43m(\u001b[49m\u001b[43m)\u001b[49m\u001b[43m,\u001b[49m\u001b[43m \u001b[49m\u001b[43mconstructor\u001b[49m\u001b[43m=\u001b[49m\u001b[43mgo\u001b[49m\u001b[43m.\u001b[49m\u001b[43mScattermap\u001b[49m\u001b[43m)\u001b[49m\n",
      "\u001b[36mFile \u001b[39m\u001b[32m~/dev/this_is_fine/.venv/lib/python3.12/site-packages/plotly/express/_core.py:2491\u001b[39m, in \u001b[36mmake_figure\u001b[39m\u001b[34m(args, constructor, trace_patch, layout_patch)\u001b[39m\n\u001b[32m   2488\u001b[39m layout_patch = layout_patch \u001b[38;5;129;01mor\u001b[39;00m {}\n\u001b[32m   2489\u001b[39m apply_default_cascade(args)\n\u001b[32m-> \u001b[39m\u001b[32m2491\u001b[39m args = \u001b[43mbuild_dataframe\u001b[49m\u001b[43m(\u001b[49m\u001b[43margs\u001b[49m\u001b[43m,\u001b[49m\u001b[43m \u001b[49m\u001b[43mconstructor\u001b[49m\u001b[43m)\u001b[49m\n\u001b[32m   2492\u001b[39m \u001b[38;5;28;01mif\u001b[39;00m constructor \u001b[38;5;129;01min\u001b[39;00m [go.Treemap, go.Sunburst, go.Icicle] \u001b[38;5;129;01mand\u001b[39;00m args[\u001b[33m\"\u001b[39m\u001b[33mpath\u001b[39m\u001b[33m\"\u001b[39m] \u001b[38;5;129;01mis\u001b[39;00m \u001b[38;5;129;01mnot\u001b[39;00m \u001b[38;5;28;01mNone\u001b[39;00m:\n\u001b[32m   2493\u001b[39m     args = process_dataframe_hierarchy(args)\n",
      "\u001b[36mFile \u001b[39m\u001b[32m~/dev/this_is_fine/.venv/lib/python3.12/site-packages/plotly/express/_core.py:1737\u001b[39m, in \u001b[36mbuild_dataframe\u001b[39m\u001b[34m(args, constructor)\u001b[39m\n\u001b[32m   1734\u001b[39m     args[\u001b[33m\"\u001b[39m\u001b[33mcolor\u001b[39m\u001b[33m\"\u001b[39m] = \u001b[38;5;28;01mNone\u001b[39;00m\n\u001b[32m   1735\u001b[39m \u001b[38;5;66;03m# now that things have been prepped, we do the systematic rewriting of `args`\u001b[39;00m\n\u001b[32m-> \u001b[39m\u001b[32m1737\u001b[39m df_output, wide_id_vars = \u001b[43mprocess_args_into_dataframe\u001b[49m\u001b[43m(\u001b[49m\n\u001b[32m   1738\u001b[39m \u001b[43m    \u001b[49m\u001b[43margs\u001b[49m\u001b[43m,\u001b[49m\n\u001b[32m   1739\u001b[39m \u001b[43m    \u001b[49m\u001b[43mwide_mode\u001b[49m\u001b[43m,\u001b[49m\n\u001b[32m   1740\u001b[39m \u001b[43m    \u001b[49m\u001b[43mvar_name\u001b[49m\u001b[43m,\u001b[49m\n\u001b[32m   1741\u001b[39m \u001b[43m    \u001b[49m\u001b[43mvalue_name\u001b[49m\u001b[43m,\u001b[49m\n\u001b[32m   1742\u001b[39m \u001b[43m    \u001b[49m\u001b[43mis_pd_like\u001b[49m\u001b[43m,\u001b[49m\n\u001b[32m   1743\u001b[39m \u001b[43m    \u001b[49m\u001b[43mnative_namespace\u001b[49m\u001b[43m,\u001b[49m\n\u001b[32m   1744\u001b[39m \u001b[43m\u001b[49m\u001b[43m)\u001b[49m\n\u001b[32m   1745\u001b[39m df_output: nw.DataFrame\n\u001b[32m   1746\u001b[39m \u001b[38;5;66;03m# now that `df_output` exists and `args` contains only references, we complete\u001b[39;00m\n\u001b[32m   1747\u001b[39m \u001b[38;5;66;03m# the special-case and wide-mode handling by further rewriting args and/or mutating\u001b[39;00m\n\u001b[32m   1748\u001b[39m \u001b[38;5;66;03m# df_output\u001b[39;00m\n",
      "\u001b[36mFile \u001b[39m\u001b[32m~/dev/this_is_fine/.venv/lib/python3.12/site-packages/plotly/express/_core.py:1338\u001b[39m, in \u001b[36mprocess_args_into_dataframe\u001b[39m\u001b[34m(args, wide_mode, var_name, value_name, is_pd_like, native_namespace)\u001b[39m\n\u001b[32m   1336\u001b[39m         \u001b[38;5;28;01mif\u001b[39;00m argument == \u001b[33m\"\u001b[39m\u001b[33mindex\u001b[39m\u001b[33m\"\u001b[39m:\n\u001b[32m   1337\u001b[39m             err_msg += \u001b[33m\"\u001b[39m\u001b[38;5;130;01m\\n\u001b[39;00m\u001b[33m To use the index, pass it in directly as `df.index`.\u001b[39m\u001b[33m\"\u001b[39m\n\u001b[32m-> \u001b[39m\u001b[32m1338\u001b[39m         \u001b[38;5;28;01mraise\u001b[39;00m \u001b[38;5;167;01mValueError\u001b[39;00m(err_msg)\n\u001b[32m   1339\u001b[39m \u001b[38;5;28;01melif\u001b[39;00m length \u001b[38;5;129;01mand\u001b[39;00m (actual_len := \u001b[38;5;28mlen\u001b[39m(df_input)) != length:\n\u001b[32m   1340\u001b[39m     \u001b[38;5;28;01mraise\u001b[39;00m \u001b[38;5;167;01mValueError\u001b[39;00m(\n\u001b[32m   1341\u001b[39m         \u001b[33m\"\u001b[39m\u001b[33mAll arguments should have the same length. \u001b[39m\u001b[33m\"\u001b[39m\n\u001b[32m   1342\u001b[39m         \u001b[33m\"\u001b[39m\u001b[33mThe length of column argument `df[\u001b[39m\u001b[38;5;132;01m%s\u001b[39;00m\u001b[33m]` is \u001b[39m\u001b[38;5;132;01m%d\u001b[39;00m\u001b[33m, whereas the \u001b[39m\u001b[33m\"\u001b[39m\n\u001b[32m   (...)\u001b[39m\u001b[32m   1349\u001b[39m         )\n\u001b[32m   1350\u001b[39m     )\n",
      "\u001b[31mValueError\u001b[39m: Value of 'hover_data_2' is not the name of a column in 'data_frame'. Expected one of ['latitude', 'longitude', 'bright_ti4', 'scan', 'track', 'acq_date', 'acq_time', 'satellite', 'instrument', 'confidence', 'version', 'bright_ti5', 'frp', 'daynight', 'acq_datetime', 'temperature_c', 'relative_humidity', 'wind_speed_kmh', 'wind_direction_deg', 'precip_probability', 'fire_danger_index', 'red_flag_index', 'aqi', 'aqi_parameter', 'aqi_category', 'aqi_category_number', 'pa_pm25', 'pa_pm25_60min', 'pa_sensor_count', 'pa_avg_distance_km', 'brightness_norm', 'confidence_norm', 'frp_norm', 'daynight_norm', 'humidity_norm', 'wind_norm', 'precip_norm', 'fire_danger_norm', 'risk_score', 'risk_category', 'uses_weather_data', 'geometry', 'lon', 'lat'] but received: brightness"
     ]
    }
   ],
   "source": [
    "fig = px.scatter_map(\n",
    "    fires_df,\n",
    "    lat='lat',\n",
    "    lon='lon',\n",
    "    color='risk_category',\n",
    "    color_discrete_map={'Low': 'yellow', 'Moderate': 'orange', 'High': 'red'},\n",
    "    hover_data=['risk_score', 'confidence', 'bright_ti4', 'frp', 'acq_date'],\n",
    "    zoom=6,\n",
    "    center={'lat': center_lat, 'lon': center_lon},\n",
    "    title='Active Fire Detections by Risk Category',\n",
    "    map_style=map_style,\n",
    ")\n",
    "\n",
    "fig.update_layout(height=600)\n",
    "fig.show()\n",
    "\n",
    "# Export to HTML\n",
    "fig.write_html('../data/processed/fires_basic_map.html')\n",
    "print('✓ Exported to data/processed/fires_basic_map.html')"
   ]
  },
  {
   "cell_type": "markdown",
   "metadata": {},
   "source": [
    "## 2. Risk Score Heatmap\n",
    "\n",
    "Density map weighted by fire risk scores."
   ]
  },
  {
   "cell_type": "code",
   "execution_count": null,
   "metadata": {},
   "outputs": [],
   "source": [
    "fig = px.density_map(\n",
    "    fires_df,\n",
    "    lat='lat',\n",
    "    lon='lon',\n",
    "    z='risk_score',  # Weight by risk score\n",
    "    radius=15,  # Heatmap radius in pixels\n",
    "    zoom=6,\n",
    "    center={'lat': center_lat, 'lon': center_lon},\n",
    "    color_continuous_scale='YlOrRd',  # Yellow -> Orange -> Red\n",
    "    title='Fire Risk Heatmap (weighted by risk score)',\n",
    "    map_style=map_style,\n",
    ")\n",
    "\n",
    "fig.update_layout(height=600)\n",
    "fig.show()\n",
    "\n",
    "fig.write_html('../data/processed/fires_risk_heatmap.html')\n",
    "print('✓ Exported to data/processed/fires_risk_heatmap.html')"
   ]
  },
  {
   "cell_type": "markdown",
   "metadata": {},
   "source": [
    "## 3. Fire Intensity (Brightness Temperature)\n",
    "\n",
    "Points sized by brightness temperature with color gradient."
   ]
  },
  {
   "cell_type": "code",
   "execution_count": null,
   "metadata": {},
   "outputs": [],
   "source": [
    "fig = px.scatter_map(\n",
    "    fires_df,\n",
    "    lat='lat',\n",
    "    lon='lon',\n",
    "    size='bright_ti4',\n",
    "    color='bright_ti4',\n",
    "    color_continuous_scale='Hot',\n",
    "    hover_data=['bright_ti4', 'bright_ti5', 'frp', 'confidence', 'acq_date'],\n",
    "    zoom=6,\n",
    "    center={'lat': center_lat, 'lon': center_lon},\n",
    "    title='Fire Brightness Temperature - Band I4 (K)',\n",
    "    map_style=map_style,\n",
    "    size_max=15,\n",
    ")\n",
    "\n",
    "fig.update_layout(height=600)\n",
    "fig.show()\n",
    "\n",
    "fig.write_html('../data/processed/fires_brightness.html')\n",
    "print('✓ Exported to data/processed/fires_brightness.html')"
   ]
  },
  {
   "cell_type": "markdown",
   "metadata": {},
   "source": [
    "## 4. Risk Buffer Zones\n",
    "\n",
    "Choropleth map showing dissolved risk buffer zones."
   ]
  },
  {
   "cell_type": "code",
   "execution_count": null,
   "metadata": {},
   "outputs": [],
   "source": [
    "# Convert GeoDataFrame to GeoJSON for Plotly\n",
    "buffers_geojson = json.loads(buffers_gdf.to_json())\n",
    "\n",
    "fig = px.choropleth_map(\n",
    "    buffers_gdf,\n",
    "    geojson=buffers_geojson,\n",
    "    color='risk_category',\n",
    "    locations=buffers_gdf.index,\n",
    "    color_discrete_map={'Low': 'yellow', 'Moderate': 'orange', 'High': 'red'},\n",
    "    hover_data=['risk_category'],\n",
    "    zoom=6,\n",
    "    center={'lat': center_lat, 'lon': center_lon},\n",
    "    title='Fire Risk Buffer Zones',\n",
    "    map_style=map_style,\n",
    "    opacity=0.5,\n",
    ")\n",
    "\n",
    "fig.update_layout(height=600)\n",
    "fig.show()\n",
    "\n",
    "fig.write_html('../data/processed/fires_buffers.html')\n",
    "print('✓ Exported to data/processed/fires_buffers.html')"
   ]
  },
  {
   "cell_type": "markdown",
   "metadata": {},
   "source": [
    "## 5. Combined: Fires + Buffer Zones\n",
    "\n",
    "Overlay fire points on top of buffer zones."
   ]
  },
  {
   "cell_type": "code",
   "execution_count": null,
   "metadata": {},
   "outputs": [],
   "source": [
    "# Create choropleth for buffers\n",
    "fig = go.Figure()\n",
    "\n",
    "# Add buffer zones\n",
    "for idx, row in buffers_gdf.iterrows():\n",
    "    color_map = {'Low': 'rgba(255,255,0,0.3)', 'Moderate': 'rgba(255,165,0,0.3)', 'High': 'rgba(255,0,0,0.3)'}\n",
    "    \n",
    "    if row.geometry.geom_type == 'Polygon':\n",
    "        coords = list(row.geometry.exterior.coords)\n",
    "    elif row.geometry.geom_type == 'MultiPolygon':\n",
    "        # Take the largest polygon\n",
    "        coords = list(max(row.geometry.geoms, key=lambda p: p.area).exterior.coords)\n",
    "    else:\n",
    "        continue\n",
    "    \n",
    "    lons, lats = zip(*coords)\n",
    "    \n",
    "    fig.add_trace(go.Scattermap(\n",
    "        lon=lons,\n",
    "        lat=lats,\n",
    "        mode='lines',\n",
    "        fill='toself',\n",
    "        fillcolor=color_map.get(row['risk_category'], 'rgba(128,128,128,0.3)'),\n",
    "        line=dict(width=1, color='white'),\n",
    "        name=f\"{row['risk_category']} Risk Zone\",\n",
    "        showlegend=True,\n",
    "        hovertemplate=f\"Risk: {row['risk_category']}<extra></extra>\",\n",
    "    ))\n",
    "\n",
    "# Add fire points\n",
    "color_map_points = {'Low': 'yellow', 'Moderate': 'orange', 'High': 'red'}\n",
    "for category in ['Low', 'Moderate', 'High']:\n",
    "    subset = fires_df[fires_df['risk_category'] == category]\n",
    "    if len(subset) > 0:\n",
    "        fig.add_trace(go.Scattermap(\n",
    "            lon=subset['lon'],\n",
    "            lat=subset['lat'],\n",
    "            mode='markers',\n",
    "            marker=dict(size=8, color=color_map_points[category]),\n",
    "            name=f\"{category} Risk Fires\",\n",
    "            hovertemplate='<b>Risk:</b> %{text}<br><b>Score:</b> %{customdata[0]:.1f}<extra></extra>',\n",
    "            text=[category] * len(subset),\n",
    "            customdata=subset[['risk_score']].values,\n",
    "        ))\n",
    "\n",
    "fig.update_layout(\n",
    "    title='Fire Detections with Risk Buffer Zones',\n",
    "    map=dict(\n",
    "        style=map_style,\n",
    "        center=dict(lat=center_lat, lon=center_lon),\n",
    "        zoom=6,\n",
    "    ),\n",
    "    height=600,\n",
    ")\n",
    "\n",
    "fig.show()\n",
    "\n",
    "fig.write_html('../data/processed/fires_combined.html')\n",
    "print('✓ Exported to data/processed/fires_combined.html')"
   ]
  },
  {
   "cell_type": "markdown",
   "metadata": {},
   "source": [
    "## 6. AirNow AQI Data (if available)\n",
    "\n",
    "Shows fires enriched with EPA AirNow air quality data."
   ]
  },
  {
   "cell_type": "code",
   "execution_count": null,
   "metadata": {},
   "outputs": [],
   "source": [
    "# Filter fires that have AQI data\n",
    "fires_aqi = fires_df[fires_df['aqi'].notna()].copy()\n",
    "\n",
    "if len(fires_aqi) > 0:\n",
    "    # Use density map for AQI heatmap visualization\n",
    "    fig = px.density_map(\n",
    "        fires_aqi,\n",
    "        lat='lat',\n",
    "        lon='lon',\n",
    "        z='aqi',  # Weight by AQI value\n",
    "        radius=15,  # Heatmap radius in pixels\n",
    "        zoom=6,\n",
    "        center={'lat': center_lat, 'lon': center_lon},\n",
    "        color_continuous_scale='YlOrRd',\n",
    "        title='Air Quality Index (AQI) Density Heatmap',\n",
    "        map_style=map_style,\n",
    "        hover_data=['aqi', 'aqi_category', 'aqi_parameter'],\n",
    "    )\n",
    "    \n",
    "    # Fix layout to match other maps\n",
    "    fig.update_layout(\n",
    "        height=600,\n",
    "        margin=dict(l=0, r=0, t=30, b=0),\n",
    "        autosize=True,\n",
    "    )\n",
    "    fig.show()\n",
    "    \n",
    "    fig.write_html('../data/processed/fires_aqi.html')\n",
    "    print(f'✓ Exported to data/processed/fires_aqi.html ({len(fires_aqi)} fires with AQI data)')\n",
    "else:\n",
    "    print('⚠ No AQI data available. Run ETL with --aqi flag to enrich with AirNow data.')"
   ]
  },
  {
   "cell_type": "markdown",
   "metadata": {},
   "source": [
    "## 7. PurpleAir PM2.5 Heatmap (if available)\n",
    "\n",
    "Density heatmap of PM2.5 concentrations from nearby PurpleAir sensors."
   ]
  },
  {
   "cell_type": "code",
   "execution_count": null,
   "metadata": {},
   "outputs": [],
   "source": [
    "# Filter fires that have PurpleAir data\n",
    "fires_pa = fires_df[fires_df['pa_pm25'].notna()].copy()\n",
    "\n",
    "if len(fires_pa) > 0:\n",
    "    fig = px.density_map(\n",
    "        fires_pa,\n",
    "        lat='lat',\n",
    "        lon='lon',\n",
    "        z='pa_pm25',  # Weight by PM2.5 concentration\n",
    "        radius=15,  # Heatmap radius in pixels\n",
    "        zoom=6,\n",
    "        center={'lat': center_lat, 'lon': center_lon},\n",
    "        color_continuous_scale='YlOrRd',\n",
    "        title='PM2.5 Smoke Density Heatmap (PurpleAir)',\n",
    "        map_style=map_style,\n",
    "        hover_data=['pa_pm25', 'pa_sensor_count'],\n",
    "    )\n",
    "    \n",
    "    # Fix layout to match other maps\n",
    "    fig.update_layout(\n",
    "        height=600,\n",
    "        margin=dict(l=0, r=0, t=30, b=0),\n",
    "        autosize=True,\n",
    "    )\n",
    "    fig.show()\n",
    "    \n",
    "    fig.write_html('../data/processed/fires_purpleair_heatmap.html')\n",
    "    print(f'✓ Exported to data/processed/fires_purpleair_heatmap.html ({len(fires_pa)} fires with PM2.5 data)')\n",
    "else:\n",
    "    print('⚠ No PurpleAir data available. Run ETL with --purpleair flag to enrich with sensor data.')"
   ]
  },
  {
   "cell_type": "markdown",
   "metadata": {},
   "source": [
    "## Summary\n",
    "\n",
    "All visualizations have been exported to `data/processed/` as standalone HTML files:\n",
    "\n",
    "1. `fires_basic_map.html` - Basic fire points by risk category\n",
    "2. `fires_risk_heatmap.html` - Risk score density heatmap\n",
    "3. `fires_brightness.html` - Fire brightness/intensity map\n",
    "4. `fires_buffers.html` - Risk buffer zones\n",
    "5. `fires_combined.html` - Fires + buffer zones overlay\n",
    "6. `fires_aqi.html` - AirNow AQI data (if available)\n",
    "7. `fires_purpleair_heatmap.html` - PurpleAir PM2.5 heatmap (if available)\n",
    "\n",
    "All maps use free MapLibre rendering with CARTO basemaps - no API keys required!"
   ]
  }
 ],
 "metadata": {
  "kernelspec": {
   "display_name": "Python 3 (ipykernel)",
   "language": "python",
   "name": "python3"
  },
  "language_info": {
   "codemirror_mode": {
    "name": "ipython",
    "version": 3
   },
   "file_extension": ".py",
   "mimetype": "text/x-python",
   "name": "python",
   "nbconvert_exporter": "python",
   "pygments_lexer": "ipython3",
   "version": "3.12.11"
  }
 },
 "nbformat": 4,
 "nbformat_minor": 4
}
